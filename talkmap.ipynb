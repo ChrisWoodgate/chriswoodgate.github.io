{
 "cells": [
  {
   "cell_type": "markdown",
   "metadata": {},
   "source": [
    "# Leaflet cluster map of talk locations\n",
    "\n",
    "Run this from the _talks/ directory, which contains .md files of all your talks. This scrapes the location YAML field from each .md file, geolocates it with geopy/Nominatim, and uses the getorg library to output data, HTML, and Javascript for a standalone cluster map."
   ]
  },
  {
   "cell_type": "code",
   "execution_count": 1,
   "metadata": {},
   "outputs": [
    {
     "name": "stdout",
     "output_type": "stream",
     "text": [
      "Iywidgets and ipyleaflet support disabled. You must be in a Jupyter notebook to use this feature.\n",
      "Error raised:\n",
      "No module named 'ipywidgets'\n",
      "Check that you have enabled ipyleaflet in Jupyter with:\n",
      "    jupyter nbextension enable --py ipyleaflet\n"
     ]
    }
   ],
   "source": [
    "#!pip3 install getorg --upgrade\n",
    "import glob\n",
    "import getorg\n",
    "from geopy import Photon"
   ]
  },
  {
   "cell_type": "code",
   "execution_count": 2,
   "metadata": {},
   "outputs": [],
   "source": [
    "g = glob.glob(\"_talks/*.md\")"
   ]
  },
  {
   "cell_type": "code",
   "execution_count": 3,
   "metadata": {},
   "outputs": [],
   "source": [
    "geocoder = Photon(user_agent='http')\n",
    "location_dict = {}\n",
    "location = \"\"\n",
    "permalink = \"\"\n",
    "title = \"\""
   ]
  },
  {
   "cell_type": "code",
   "execution_count": 4,
   "metadata": {},
   "outputs": [
    {
     "name": "stdout",
     "output_type": "stream",
     "text": [
      "University of Warwick, Coventry, UK \n",
      " Hitex UK, Viscount Centre 2, CV4 7HS, Viscount Centre 2, Coventry, England, United Kingdom\n",
      "Crowne Plaza Manchester City Centre, Manchester, UK \n",
      " Manchester Crown Court, Minshull Street, M1 3FS, Minshull Street, Manchester, England, United Kingdom\n",
      "Mercure Chester Abbotts Well, Chester, UK \n",
      " Chester Abbots Well, Whitchurch Road, CH3 5QL, Whitchurch Road, Chester, England, United Kingdom\n",
      "Hynes Convention Center, Boston, USA \n",
      " Hynes Convention Center, Newbury Street, 02115, Newbury Street, Boston, MA, United States\n",
      "University of Warwick, Coventry, UK \n",
      " Hitex UK, Viscount Centre 2, CV4 7HS, Viscount Centre 2, Coventry, England, United Kingdom\n",
      "University of Bristol, Bristol, UK \n",
      " University of Bristol, BS9 3RZ, Barrow Gurney, England, United Kingdom\n",
      "East Midlands Conference Centre, Nottingham, UK \n",
      " East Midlands Conference Centre, Loverose Way, NG7 2RJ, Loverose Way, Nottingham, England, United Kingdom\n",
      "Bologna Congress Center, Bologna, Italy \n",
      " Bologna Centrale, Piazza delle Medaglie d'Oro, 40121, Piazza delle Medaglie d'Oro, Bologna, Emilia-Romagna, Italia\n",
      "EPFL, Lausanne, Switzerland \n",
      " École Polytechnique Fédérale de Lausanne, Route Cantonale, 1025, Route Cantonale, Ecublens VD, Vaud, Schweiz/Suisse/Svizzera/Svizra\n",
      "University of Birmingham, Birmingham, UK \n",
      " University of Birmingham Edgbaston Campus, Bournbrook Road, B29 7BL, Bournbrook Road, Birmingham, England, United Kingdom\n",
      "Northeastern University, Boston, USA \n",
      " Northeastern University Asian American Center Annex, Saint Botolph Street, 02115, Saint Botolph Street, Boston, MA, United States\n",
      "Seattle Convention Center, Seattle, USA \n",
      " The Convention Center Arch, 8th Avenue Bike Path, 98191, 8th Avenue Bike Path, Seattle, Washington, United States\n",
      "University of Warwick, Coventry, UK \n",
      " Hitex UK, Viscount Centre 2, CV4 7HS, Viscount Centre 2, Coventry, England, United Kingdom\n",
      "University of Warwick, Coventry, UK \n",
      " Hitex UK, Viscount Centre 2, CV4 7HS, Viscount Centre 2, Coventry, England, United Kingdom\n",
      "Seattle Convention Center, Seattle, USA \n",
      " The Convention Center Arch, 8th Avenue Bike Path, 98191, 8th Avenue Bike Path, Seattle, Washington, United States\n",
      "Universidad Complutense de Madrid, Madrid, Spain \n",
      " Facultad de Educación, Universidad Complutense de Madrid, Rector Royo Villanova, 28040, Rector Royo Villanova, Madrid, Comunidad de Madrid, España\n",
      "Universidad Complutense de Madrid, Madrid, Spain \n",
      " Facultad de Educación, Universidad Complutense de Madrid, Rector Royo Villanova, 28040, Rector Royo Villanova, Madrid, Comunidad de Madrid, España\n"
     ]
    }
   ],
   "source": [
    "\n",
    "for file in g:\n",
    "    with open(file, 'r') as f:\n",
    "        lines = f.read()\n",
    "        if lines.find('location: \"') > 1:\n",
    "            loc_start = lines.find('location: \"') + 11\n",
    "            lines_trim = lines[loc_start:]\n",
    "            loc_end = lines_trim.find('\"')\n",
    "            location = lines_trim[:loc_end]\n",
    "                            \n",
    "           \n",
    "        location_dict[location] = geocoder.geocode(location)\n",
    "        print(location, \"\\n\", location_dict[location])\n"
   ]
  },
  {
   "cell_type": "code",
   "execution_count": 5,
   "metadata": {},
   "outputs": [
    {
     "data": {
      "text/plain": [
       "'Written map to talkmap/'"
      ]
     },
     "execution_count": 5,
     "metadata": {},
     "output_type": "execute_result"
    }
   ],
   "source": [
    "m = getorg.orgmap.create_map_obj()\n",
    "getorg.orgmap.output_html_cluster_map(location_dict, folder_name=\"talkmap\", hashed_usernames=False)"
   ]
  },
  {
   "cell_type": "code",
   "execution_count": null,
   "metadata": {
    "collapsed": true,
    "jupyter": {
     "outputs_hidden": true
    }
   },
   "outputs": [],
   "source": []
  }
 ],
 "metadata": {
  "anaconda-cloud": {},
  "kernelspec": {
   "display_name": "Python 3 (ipykernel)",
   "language": "python",
   "name": "python3"
  },
  "language_info": {
   "codemirror_mode": {
    "name": "ipython",
    "version": 3
   },
   "file_extension": ".py",
   "mimetype": "text/x-python",
   "name": "python",
   "nbconvert_exporter": "python",
   "pygments_lexer": "ipython3",
   "version": "3.12.2"
  }
 },
 "nbformat": 4,
 "nbformat_minor": 4
}
