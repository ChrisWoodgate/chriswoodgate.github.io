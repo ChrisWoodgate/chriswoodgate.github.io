{
 "cells": [
  {
   "cell_type": "markdown",
   "metadata": {},
   "source": [
    "# Leaflet cluster map of talk locations\n",
    "\n",
    "Run this from the _talks/ directory, which contains .md files of all your talks. This scrapes the location YAML field from each .md file, geolocates it with geopy/Nominatim, and uses the getorg library to output data, HTML, and Javascript for a standalone cluster map."
   ]
  },
  {
   "cell_type": "code",
   "execution_count": 1,
   "metadata": {},
   "outputs": [
    {
     "name": "stdout",
     "output_type": "stream",
     "text": [
      "Iywidgets and ipyleaflet support disabled. You must be in a Jupyter notebook to use this feature.\n",
      "Error raised:\n",
      "No module named 'ipywidgets'\n",
      "Check that you have enabled ipyleaflet in Jupyter with:\n",
      "    jupyter nbextension enable --py ipyleaflet\n"
     ]
    }
   ],
   "source": [
    "#!pip3 install getorg --upgrade\n",
    "import glob\n",
    "import getorg\n",
    "from geopy import Photon"
   ]
  },
  {
   "cell_type": "code",
   "execution_count": 2,
   "metadata": {},
   "outputs": [],
   "source": [
    "g = glob.glob(\"_talks/*.md\")"
   ]
  },
  {
   "cell_type": "code",
   "execution_count": 3,
   "metadata": {},
   "outputs": [],
   "source": [
    "geocoder = Photon(user_agent='http')\n",
    "location_dict = {}\n",
    "location = \"\"\n",
    "permalink = \"\"\n",
    "title = \"\""
   ]
  },
  {
   "cell_type": "code",
   "execution_count": 4,
   "metadata": {},
   "outputs": [
    {
     "name": "stdout",
     "output_type": "stream",
     "text": [
      "Coventry, UK \n",
      " Abena UK Ltd, Dolomite Avenue, CV5 6US, Dolomite Avenue, Coventry, England, United Kingdom\n",
      "Manchester, UK \n",
      " MediaCityUK, Salford, England, United Kingdom\n",
      "Chester, UK \n",
      " Age UK, The Parade, CH1 5GB, The Parade, Chester, England, United Kingdom\n",
      "Boston, USA \n",
      " SGI-USA, Boston Post Road, 06477, Boston Post Road, Milford, CT, United States\n",
      "Bristol, UK \n",
      " Age UK, Regent Street, BS15 8DB, Regent Street, Bristol, England, United Kingdom\n",
      "Lausanne, Switzerland \n",
      " Lausanne, Vaud, Schweiz/Suisse/Svizzera/Svizra\n",
      "Birmingham, UK \n",
      " Draexlmaier Automotive UK Ltd, Birmingham, England, United Kingdom\n",
      "Boston, USA \n",
      " SGI-USA, Boston Post Road, 06477, Boston Post Road, Milford, CT, United States\n",
      "Coventry, UK \n",
      " Abena UK Ltd, Dolomite Avenue, CV5 6US, Dolomite Avenue, Coventry, England, United Kingdom\n",
      "Coventry, UK \n",
      " Abena UK Ltd, Dolomite Avenue, CV5 6US, Dolomite Avenue, Coventry, England, United Kingdom\n",
      "Seattle, USA \n",
      " Alaska USA Federal Credit Union, 4th Avenue Cycletrack, 98121, 4th Avenue Cycletrack, Seattle, Washington, United States\n",
      "Madrid, Spain \n",
      " Madrid, Comunidad de Madrid, España\n",
      "Madrid, Spain \n",
      " Madrid, Comunidad de Madrid, España\n"
     ]
    }
   ],
   "source": [
    "\n",
    "for file in g:\n",
    "    with open(file, 'r') as f:\n",
    "        lines = f.read()\n",
    "        if lines.find('location: \"') > 1:\n",
    "            loc_start = lines.find('location: \"') + 11\n",
    "            lines_trim = lines[loc_start:]\n",
    "            loc_end = lines_trim.find('\"')\n",
    "            location = lines_trim[:loc_end]\n",
    "                            \n",
    "           \n",
    "        location_dict[location] = geocoder.geocode(location)\n",
    "        print(location, \"\\n\", location_dict[location])\n"
   ]
  },
  {
   "cell_type": "code",
   "execution_count": 5,
   "metadata": {},
   "outputs": [
    {
     "data": {
      "text/plain": [
       "'Written map to talkmap/'"
      ]
     },
     "execution_count": 5,
     "metadata": {},
     "output_type": "execute_result"
    }
   ],
   "source": [
    "m = getorg.orgmap.create_map_obj()\n",
    "getorg.orgmap.output_html_cluster_map(location_dict, folder_name=\"talkmap\", hashed_usernames=False)"
   ]
  },
  {
   "cell_type": "code",
   "execution_count": null,
   "metadata": {
    "collapsed": true,
    "jupyter": {
     "outputs_hidden": true
    }
   },
   "outputs": [],
   "source": []
  }
 ],
 "metadata": {
  "anaconda-cloud": {},
  "kernelspec": {
   "display_name": "Python 3 (ipykernel)",
   "language": "python",
   "name": "python3"
  },
  "language_info": {
   "codemirror_mode": {
    "name": "ipython",
    "version": 3
   },
   "file_extension": ".py",
   "mimetype": "text/x-python",
   "name": "python",
   "nbconvert_exporter": "python",
   "pygments_lexer": "ipython3",
   "version": "3.12.2"
  }
 },
 "nbformat": 4,
 "nbformat_minor": 4
}
