{
 "cells": [
  {
   "cell_type": "markdown",
   "metadata": {},
   "source": [
    "# Leaflet cluster map of talk locations\n",
    "\n",
    "Assuming you are working in a Linux or Windows Subsystem for Linux environment, you may need to install some dependencies. Assuming a clean installation, the following will be needed:\n",
    "\n",
    "```bash\n",
    "sudo apt install jupyter\n",
    "sudo apt install python3-pip\n",
    "pip install python-frontmatter getorg --upgrade\n",
    "```\n",
    "\n",
    "After which you can run this from the `_talks/` directory, via:\n",
    "\n",
    "```bash\n",
    " jupyter nbconvert --to notebook --execute talkmap.ipynb --output talkmap_out.ipynb\n",
    "```\n",
    " \n",
    "The `_talks/` directory contains `.md` files of all your talks. This scrapes the location YAML field from each `.md` file, geolocates it with `geopy/Nominatim`, and uses the `getorg` library to output data, HTML, and Javascript for a standalone cluster map."
   ]
  },
  {
   "cell_type": "code",
   "execution_count": 2,
   "metadata": {},
   "outputs": [
    {
     "name": "stdout",
     "output_type": "stream",
     "text": [
      "Requirement already satisfied: getorg in /opt/anaconda3/lib/python3.12/site-packages (0.3.1)\n",
      "Requirement already satisfied: geopy in /opt/anaconda3/lib/python3.12/site-packages (from getorg) (2.4.1)\n",
      "Requirement already satisfied: pygithub in /opt/anaconda3/lib/python3.12/site-packages (from getorg) (2.5.0)\n",
      "Requirement already satisfied: retrying in /opt/anaconda3/lib/python3.12/site-packages (from getorg) (1.3.4)\n",
      "Requirement already satisfied: geographiclib<3,>=1.52 in /opt/anaconda3/lib/python3.12/site-packages (from geopy->getorg) (2.0)\n",
      "Requirement already satisfied: pynacl>=1.4.0 in /opt/anaconda3/lib/python3.12/site-packages (from pygithub->getorg) (1.5.0)\n",
      "Requirement already satisfied: requests>=2.14.0 in /opt/anaconda3/lib/python3.12/site-packages (from pygithub->getorg) (2.32.2)\n",
      "Requirement already satisfied: pyjwt>=2.4.0 in /opt/anaconda3/lib/python3.12/site-packages (from pyjwt[crypto]>=2.4.0->pygithub->getorg) (2.8.0)\n",
      "Requirement already satisfied: typing-extensions>=4.0.0 in /opt/anaconda3/lib/python3.12/site-packages (from pygithub->getorg) (4.11.0)\n",
      "Requirement already satisfied: urllib3>=1.26.0 in /opt/anaconda3/lib/python3.12/site-packages (from pygithub->getorg) (2.2.2)\n",
      "Requirement already satisfied: Deprecated in /opt/anaconda3/lib/python3.12/site-packages (from pygithub->getorg) (1.2.15)\n",
      "Requirement already satisfied: six>=1.7.0 in /opt/anaconda3/lib/python3.12/site-packages (from retrying->getorg) (1.16.0)\n",
      "Requirement already satisfied: cryptography>=3.4.0 in /opt/anaconda3/lib/python3.12/site-packages (from pyjwt[crypto]>=2.4.0->pygithub->getorg) (42.0.5)\n",
      "Requirement already satisfied: cffi>=1.4.1 in /opt/anaconda3/lib/python3.12/site-packages (from pynacl>=1.4.0->pygithub->getorg) (1.16.0)\n",
      "Requirement already satisfied: charset-normalizer<4,>=2 in /opt/anaconda3/lib/python3.12/site-packages (from requests>=2.14.0->pygithub->getorg) (2.0.4)\n",
      "Requirement already satisfied: idna<4,>=2.5 in /opt/anaconda3/lib/python3.12/site-packages (from requests>=2.14.0->pygithub->getorg) (3.7)\n",
      "Requirement already satisfied: certifi>=2017.4.17 in /opt/anaconda3/lib/python3.12/site-packages (from requests>=2.14.0->pygithub->getorg) (2024.8.30)\n",
      "Requirement already satisfied: wrapt<2,>=1.10 in /opt/anaconda3/lib/python3.12/site-packages (from Deprecated->pygithub->getorg) (1.14.1)\n",
      "Requirement already satisfied: pycparser in /opt/anaconda3/lib/python3.12/site-packages (from cffi>=1.4.1->pynacl>=1.4.0->pygithub->getorg) (2.21)\n",
      "Iywidgets and ipyleaflet support disabled. You must be in a Jupyter notebook to use this feature.\n",
      "Error raised:\n",
      "No module named 'ipyleaflet'\n",
      "Check that you have enabled ipyleaflet in Jupyter with:\n",
      "    jupyter nbextension enable --py ipyleaflet\n"
     ]
    }
   ],
   "source": [
    "!pip3 install getorg --upgrade\n",
    "import glob\n",
    "import getorg\n",
    "from geopy import Photon"
   ]
  },
  {
   "cell_type": "code",
   "execution_count": 3,
   "metadata": {},
   "outputs": [],
   "source": [
    "g = glob.glob(\"_talks/*.md\")"
   ]
  },
  {
   "cell_type": "code",
   "execution_count": 4,
   "metadata": {},
   "outputs": [],
   "source": [
    "geocoder = Photon(user_agent='http')\n",
    "location_dict = {}\n",
    "location = \"\"\n",
    "permalink = \"\"\n",
    "title = \"\""
   ]
  },
  {
   "cell_type": "code",
   "execution_count": 5,
   "metadata": {},
   "outputs": [
    {
     "name": "stdout",
     "output_type": "stream",
     "text": [
      "University of Warwick, Coventry, UK \n",
      " Hitex UK, Viscount Centre 2, CV4 7HS, Viscount Centre 2, Coventry, England, United Kingdom\n",
      "Manchester Central Convention Centre, Manchester, UK \n",
      " Manchester Central Convention Complex, Windmill Street, M2 3GX, Windmill Street, Manchester, England, United Kingdom\n",
      "Bristol Hotel, Bristol, UK \n",
      " The Bristol Hotel, Cathedral Square, GX11 1AA, Cathedral Square, Gibraltar, Gibraltar\n",
      "Crowne Plaza Manchester City Centre, Manchester, UK \n",
      " Manchester Crown Court, Minshull Street, M1 3FS, Minshull Street, Manchester, England, United Kingdom\n",
      "Mercure Chester Abbotts Well, Chester, UK \n",
      " Chester Abbots Well, Whitchurch Road, CH3 5QL, Whitchurch Road, Chester, England, United Kingdom\n",
      "Hynes Convention Center, Boston, USA \n",
      " Hynes Convention Center, Massachusetts Avenue, 02115, Massachusetts Avenue, Boston, Massachusetts, United States\n",
      "University of Warwick, Coventry, UK \n",
      " Hitex UK, Viscount Centre 2, CV4 7HS, Viscount Centre 2, Coventry, England, United Kingdom\n",
      "University of Bristol, Bristol, UK \n",
      " University of Bristol, BS9 3RZ, Barrow Gurney, England, United Kingdom\n",
      "East Midlands Conference Centre, Nottingham, UK \n",
      " East Midlands Conference Centre, Loverose Way, NG7 2RJ, Loverose Way, Nottingham, England, United Kingdom\n",
      "Bologna Congress Center, Bologna, Italy \n",
      " Bologna Centrale, Piazza delle Medaglie d'Oro, 40121, Piazza delle Medaglie d'Oro, Bologna, Emilia-Romagna, Italia\n",
      "Hyatt Regency New Orleans, New Orleans, Louisiana, USA \n",
      " Regency Mall Street, 70126, New Orleans, Louisiana, United States\n",
      "University of Warwick, Coventry, UK \n",
      " Hitex UK, Viscount Centre 2, CV4 7HS, Viscount Centre 2, Coventry, England, United Kingdom\n",
      "EPFL, Lausanne, Switzerland \n",
      " École Polytechnique Fédérale de Lausanne, Route Cantonale, 1025, Route Cantonale, St-Sulpice VD, Vaud, Schweiz/Suisse/Svizzera/Svizra\n",
      "Northeastern University, Boston, USA \n",
      " Northeastern University Wiffle Ball Field, Huntington Avenue, 02115, Huntington Avenue, Boston, MA, United States\n",
      "University of Birmingham, Birmingham, UK \n",
      " University of Birmingham Edgbaston Campus, Oakfield Road, B29 7EG, Oakfield Road, Birmingham, England, United Kingdom\n",
      "Northeastern University, Boston, USA \n",
      " Northeastern University Wiffle Ball Field, Huntington Avenue, 02115, Huntington Avenue, Boston, MA, United States\n",
      "Hyatt Regency New Orleans, New Orleans, Louisiana, USA \n",
      " Regency Mall Street, 70126, New Orleans, Louisiana, United States\n",
      "Daresbury Laboratory, Warrington, UK \n",
      " Daresbury Laboratory, Keckwick Lane, WA4 4AD, Keckwick Lane, Warrington, England, United Kingdom\n",
      "Hyatt Regency New Orleans, New Orleans, Louisiana, USA \n",
      " Regency Mall Street, 70126, New Orleans, Louisiana, United States\n",
      "Anaheim Convention Center, Anaheim, CA, USA \n",
      " Anaheim Regional Transportation Intermodal Center, Orange Freeway, 92868, Orange Freeway, Anaheim, CA, United States\n",
      "Seattle Convention Center, Seattle, USA \n",
      " The Convention Center Arch, 7th Avenue, 98191, 7th Avenue, Seattle, Washington, United States\n",
      "University of Warwick, Coventry, UK \n",
      " Hitex UK, Viscount Centre 2, CV4 7HS, Viscount Centre 2, Coventry, England, United Kingdom\n",
      "University of Warwick, Coventry, UK \n",
      " Hitex UK, Viscount Centre 2, CV4 7HS, Viscount Centre 2, Coventry, England, United Kingdom\n",
      "Seattle Convention Center, Seattle, USA \n",
      " The Convention Center Arch, 7th Avenue, 98191, 7th Avenue, Seattle, Washington, United States\n",
      "University of Sheffield, Sheffield, UK \n",
      " University of Sheffield, Western Bank, S10 2TN, Western Bank, Sheffield, England, United Kingdom\n",
      "Universidad Complutense de Madrid, Madrid, Spain \n",
      " Facultad de Educación, Universidad Complutense de Madrid, Rector Royo Villanova, 28040, Rector Royo Villanova, Madrid, Comunidad de Madrid, España\n",
      "University of Warwick, Coventry, UK \n",
      " Hitex UK, Viscount Centre 2, CV4 7HS, Viscount Centre 2, Coventry, England, United Kingdom\n",
      "Universidad Complutense de Madrid, Madrid, Spain \n",
      " Facultad de Educación, Universidad Complutense de Madrid, Rector Royo Villanova, 28040, Rector Royo Villanova, Madrid, Comunidad de Madrid, España\n"
     ]
    }
   ],
   "source": [
    "\n",
    "for file in g:\n",
    "    with open(file, 'r') as f:\n",
    "        lines = f.read()\n",
    "        if lines.find('location: \"') > 1:\n",
    "            loc_start = lines.find('location: \"') + 11\n",
    "            lines_trim = lines[loc_start:]\n",
    "            loc_end = lines_trim.find('\"')\n",
    "            location = lines_trim[:loc_end]\n",
    "                            \n",
    "           \n",
    "        location_dict[location] = geocoder.geocode(location, timeout=10)\n",
    "        print(location, \"\\n\", location_dict[location])\n"
   ]
  },
  {
   "cell_type": "code",
   "execution_count": 6,
   "metadata": {},
   "outputs": [
    {
     "data": {
      "text/plain": [
       "'Written map to talkmap/'"
      ]
     },
     "execution_count": 6,
     "metadata": {},
     "output_type": "execute_result"
    }
   ],
   "source": [
    "# Perform geolocation\n",
    "for file in g:\n",
    "    # Read the file\n",
    "    data = frontmatter.load(file)\n",
    "    data = data.to_dict()\n",
    "\n",
    "    # Press on if the location is not present\n",
    "    if 'location' not in data:\n",
    "        continue\n",
    "\n",
    "    # Prepare the description\n",
    "    title = data['title'].strip()\n",
    "    venue = data['venue'].strip()\n",
    "    location = data['location'].strip()\n",
    "    description = f\"{title}<br />{venue}; {location}\"\n",
    "\n",
    "    # Geocode the location and report the status\n",
    "    try:\n",
    "        location_dict[description] = geocoder.geocode(location, timeout=TIMEOUT)\n",
    "        print(description, location_dict[description])\n",
    "    except ValueError as ex:\n",
    "        print(f\"Error: geocode failed on input {location} with message {ex}\")\n",
    "    except GeocoderTimedOut as ex:\n",
    "        print(f\"Error: geocode timed out on input {location} with message {ex}\")\n",
    "    except Exception as ex:\n",
    "        print(f\"An unhandled exception occurred while processing input {location} with message {ex}\")"
   ]
  },
  {
   "cell_type": "code",
   "execution_count": null,
   "metadata": {
    "collapsed": false
   },
   "outputs": [],
   "source": [
    "# Save the map\n",
    "m = getorg.orgmap.create_map_obj()\n",
    "getorg.orgmap.output_html_cluster_map(location_dict, folder_name=\"talkmap\", hashed_usernames=False)"
   ]
  },
  {
   "cell_type": "code",
   "execution_count": null,
   "metadata": {
    "collapsed": true,
    "jupyter": {
     "outputs_hidden": true
    }
   },
   "outputs": [],
   "source": []
  }
 ],
 "metadata": {
  "anaconda-cloud": {},
  "kernelspec": {
   "display_name": "Python 3 (ipykernel)",
   "language": "python",
   "name": "python3"
  },
  "language_info": {
   "codemirror_mode": {
    "name": "ipython",
    "version": 3
   },
   "file_extension": ".py",
   "mimetype": "text/x-python",
   "name": "python",
   "nbconvert_exporter": "python",
   "pygments_lexer": "ipython3",
   "version": "3.12.4"
  }
 },
 "nbformat": 4,
 "nbformat_minor": 4
}
